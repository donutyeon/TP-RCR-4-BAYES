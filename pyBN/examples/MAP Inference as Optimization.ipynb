{
 "cells": [
  {
   "cell_type": "markdown",
   "metadata": {},
   "source": [
    "# MAP Inference as Linear Integer Programming"
   ]
  },
  {
   "cell_type": "markdown",
   "metadata": {},
   "source": [
    "MAP inference is a task concerned with finding the assignment of random variables in a Bayesian network that optimizes the joint probability over all possible assignments. By \"optimizes\", we are talking about maximizing the joint probability (or minimizing the sum of the negative log-probabilities). Whenever the term \"optimize\" is thrown around, it should be clear that the problem lends itself to mathematical programming. MAP inference is no different - it can be solved as an integer linear program. \n",
    "\n",
    "Let's see how we could do this. First, we will start by loading a very simple Bayesian network with two nodes \"A\" and \"B\", with only one edge pointing from \"A\" -> \"B\""
   ]
  },
  {
   "cell_type": "code",
   "execution_count": 3,
   "metadata": {
    "collapsed": false
   },
   "outputs": [],
   "source": [
    "from pyBN import *"
   ]
  },
  {
   "cell_type": "code",
   "execution_count": 4,
   "metadata": {
    "collapsed": true
   },
   "outputs": [],
   "source": [
    "bn = read_bn('data/simple.bn')"
   ]
  },
  {
   "cell_type": "code",
   "execution_count": 8,
   "metadata": {
    "collapsed": false
   },
   "outputs": [
    {
     "name": "stdout",
     "output_type": "stream",
     "text": [
      "['A', 'B']\n",
      "{'A': ['B'], 'B': []}\n",
      "{'A': {'values': ['No', 'Yes'], 'parents': [], 'cpt': [0.3, 0.7]}, 'B': {'values': ['No', 'Yes'], 'parents': ['A'], 'cpt': [0.4, 0.6, 0.1, 0.9]}}\n"
     ]
    }
   ],
   "source": [
    "print bn.V\n",
    "print bn.E\n",
    "print bn.F"
   ]
  },
  {
   "cell_type": "markdown",
   "metadata": {},
   "source": [
    "From a quick look at the conditional probability values, it should be clear that the assignment of values to \"A\" and \"B\" has a maximal probability of 0.63 when \"A=Yes\" and \"B=Yes\".\n",
    "\n",
    "Let's see how this problem can be solved and generalized using a well-known Python optimization library called \"Pulp\". Pulp is just almost as good as CPLEX and Gurobi, but doesn't require a license and can be installed directly from pip."
   ]
  },
  {
   "cell_type": "code",
   "execution_count": 9,
   "metadata": {
    "collapsed": true
   },
   "outputs": [],
   "source": [
    "from pulp import *"
   ]
  },
  {
   "cell_type": "markdown",
   "metadata": {},
   "source": [
    "We start by creating a model:"
   ]
  },
  {
   "cell_type": "code",
   "execution_count": 99,
   "metadata": {
    "collapsed": false
   },
   "outputs": [],
   "source": [
    "model = LpProblem(\"MAP Inference\", LpMinimize)"
   ]
  },
  {
   "cell_type": "markdown",
   "metadata": {},
   "source": [
    "We will now create a variable for each value in the Conditional Probability Table of each variable. These are the decision variables - which entry in the CPT to choose."
   ]
  },
  {
   "cell_type": "code",
   "execution_count": 100,
   "metadata": {
    "collapsed": false
   },
   "outputs": [],
   "source": [
    "x1 = LpVariable(\"A=No\",0,1,LpInteger)\n",
    "x2 = LpVariable(\"A=Yes\",0,1,LpInteger)\n",
    "x3 = LpVariable(\"B=No|A=No\",0,1,LpInteger)\n",
    "x4 = LpVariable(\"B=Yes|A=No\",0,1,LpInteger)\n",
    "x5 = LpVariable(\"B=No|A=Yes\",0,1,LpInteger)\n",
    "x6 = LpVariable(\"B=Yes|A=Yes\",0,1,LpInteger)"
   ]
  },
  {
   "cell_type": "code",
   "execution_count": 101,
   "metadata": {
    "collapsed": false
   },
   "outputs": [],
   "source": [
    "var_list = [x1,x2,x3,x4,x5,x6]\n",
    "val_list = -np.log(bn.flat_cpt())"
   ]
  },
  {
   "cell_type": "markdown",
   "metadata": {},
   "source": [
    "As you can see, the number of variables equals the number of conditional probability values which must be specified. This number grows quickly as the number of nodes increases - but not as quickly as if another representation besides Bayesian networks was used.\n",
    "\n",
    "First, we will add the objective value - minimizing the sum of the negative log values of the conditional probability entries:"
   ]
  },
  {
   "cell_type": "code",
   "execution_count": 102,
   "metadata": {
    "collapsed": true
   },
   "outputs": [],
   "source": [
    "model += np.dot(var_list,val_list)"
   ]
  },
  {
   "cell_type": "markdown",
   "metadata": {},
   "source": [
    "Now, let's add in our constraints to make sure that the conditional probability tables agree on the parent values. That is, the decision variable value of a given node must equal the sum of the decision variable values of all children nodes which include the parent node's value."
   ]
  },
  {
   "cell_type": "code",
   "execution_count": 103,
   "metadata": {
    "collapsed": false
   },
   "outputs": [],
   "source": [
    "model += x1 == x3+x4, 'Edge Constraint 1'\n",
    "model += x2 == x5+x6, 'Edge Constraint 2'"
   ]
  },
  {
   "cell_type": "markdown",
   "metadata": {},
   "source": [
    "Moreover, let's add constraint to make sure only one value from each CPT can be chosen:"
   ]
  },
  {
   "cell_type": "code",
   "execution_count": 104,
   "metadata": {
    "collapsed": true
   },
   "outputs": [],
   "source": [
    "model += x1 + x2 == 1, 'RV Constraint 1'\n",
    "model += x3 + x4 + x5 + x6 == 1, 'RV Constraint 2'"
   ]
  },
  {
   "cell_type": "markdown",
   "metadata": {},
   "source": [
    "Finally, let's solve."
   ]
  },
  {
   "cell_type": "code",
   "execution_count": 105,
   "metadata": {
    "collapsed": false,
    "scrolled": false
   },
   "outputs": [
    {
     "data": {
      "text/plain": [
       "1"
      ]
     },
     "execution_count": 105,
     "metadata": {},
     "output_type": "execute_result"
    }
   ],
   "source": [
    "model.solve()"
   ]
  },
  {
   "cell_type": "markdown",
   "metadata": {},
   "source": [
    "We can now print out the variables and observe the solution:"
   ]
  },
  {
   "cell_type": "code",
   "execution_count": 106,
   "metadata": {
    "collapsed": false
   },
   "outputs": [
    {
     "name": "stdout",
     "output_type": "stream",
     "text": [
      "A=No 0.0\n",
      "A=Yes 1.0\n",
      "B=No|A=No 0.0\n",
      "B=No|A=Yes 0.0\n",
      "B=Yes|A=No 0.0\n",
      "B=Yes|A=Yes 1.0\n"
     ]
    }
   ],
   "source": [
    "for v in model.variables():\n",
    "    print v.name, v.varValue"
   ]
  },
  {
   "cell_type": "markdown",
   "metadata": {},
   "source": [
    "And there it is - the solver shows us that the optimal solution indeed is \"A=Yes\" and \"B=Yes|A=Yes\""
   ]
  }
 ],
 "metadata": {
  "kernelspec": {
   "display_name": "Python 3",
   "language": "python",
   "name": "python3"
  },
  "language_info": {
   "codemirror_mode": {
    "name": "ipython",
    "version": 2
   },
   "file_extension": ".py",
   "mimetype": "text/x-python",
   "name": "python",
   "nbconvert_exporter": "python",
   "pygments_lexer": "ipython2",
   "version": "3.9.4 (tags/v3.9.4:1f2e308, Apr  6 2021, 13:40:21) [MSC v.1928 64 bit (AMD64)]"
  },
  "vscode": {
   "interpreter": {
    "hash": "5addf786bcd861d1ce5006f23111f8cbb206731e5b61b0a5632ba9e0252558a8"
   }
  }
 },
 "nbformat": 4,
 "nbformat_minor": 0
}
