{
 "cells": [
  {
   "cell_type": "markdown",
   "metadata": {},
   "source": [
    "# Marginal Inference in Bayesian Networks with pyBN"
   ]
  },
  {
   "cell_type": "markdown",
   "metadata": {},
   "source": [
    "Marginal inference is a task concerned with answering probability queries of the form P(X|E), where X is a set of variables of interest and E is the set of evidence variables. Performing marginal inference is an important task because it allows you to calculate and view updated beliefs in the face of new data. The pyBN module makes this easy.\n",
    "\n",
    "Let's start by loading the pyBN package and reading the \"Earthquake\" network included in the /data/ folder"
   ]
  },
  {
   "cell_type": "code",
   "execution_count": 15,
   "metadata": {
    "collapsed": false
   },
   "outputs": [],
   "source": [
    "from pyBN import *\n",
    "bn = read_bn('data/earthquake.bn')"
   ]
  },
  {
   "cell_type": "markdown",
   "metadata": {},
   "source": [
    "As with any new Bayesian network, it helps to look at its attributes:"
   ]
  },
  {
   "cell_type": "code",
   "execution_count": 16,
   "metadata": {
    "collapsed": false
   },
   "outputs": [
    {
     "name": "stdout",
     "output_type": "stream",
     "text": [
      "{\n",
      "  \"Burglary\": [\n",
      "    \"Alarm\"\n",
      "  ], \n",
      "  \"MaryCalls\": [], \n",
      "  \"Alarm\": [\n",
      "    \"JohnCalls\", \n",
      "    \"MaryCalls\"\n",
      "  ], \n",
      "  \"JohnCalls\": [], \n",
      "  \"Earthquake\": [\n",
      "    \"Alarm\"\n",
      "  ]\n",
      "}\n"
     ]
    }
   ],
   "source": [
    "import json\n",
    "print json.dumps(bn.E,indent=2)"
   ]
  },
  {
   "cell_type": "markdown",
   "metadata": {
    "collapsed": true
   },
   "source": [
    "Here, we see that the network consists of five nodes - two priors ('Burglary' and 'Earthquake') converging on 'Alarm', which in turn spawns two leaf nodes ('MaryCalls' and 'JohnCalls')\n"
   ]
  },
  {
   "cell_type": "code",
   "execution_count": null,
   "metadata": {
    "collapsed": true
   },
   "outputs": [],
   "source": []
  }
 ],
 "metadata": {
  "kernelspec": {
   "display_name": "Python 3",
   "language": "python",
   "name": "python3"
  },
  "language_info": {
   "codemirror_mode": {
    "name": "ipython",
    "version": 2
   },
   "file_extension": ".py",
   "mimetype": "text/x-python",
   "name": "python",
   "nbconvert_exporter": "python",
   "pygments_lexer": "ipython2",
   "version": "3.9.4 (tags/v3.9.4:1f2e308, Apr  6 2021, 13:40:21) [MSC v.1928 64 bit (AMD64)]"
  },
  "vscode": {
   "interpreter": {
    "hash": "5addf786bcd861d1ce5006f23111f8cbb206731e5b61b0a5632ba9e0252558a8"
   }
  }
 },
 "nbformat": 4,
 "nbformat_minor": 0
}
