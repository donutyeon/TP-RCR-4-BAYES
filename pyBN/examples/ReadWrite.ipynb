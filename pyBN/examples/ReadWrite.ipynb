{
 "cells": [
  {
   "cell_type": "markdown",
   "metadata": {},
   "source": [
    "# Reading and Writing Bayesian Networks with pyBN"
   ]
  },
  {
   "cell_type": "markdown",
   "metadata": {},
   "source": [
    "<p>When first testing out a Bayesian network package, the first thing a user usually wants to do is read a Bayesian network from a file. The pyBN package makes reading BN's from files increadibly easy. Moreover a substantial number of networks are already included with the package!</p>\n",
    "The first step is to load the package:"
   ]
  },
  {
   "cell_type": "code",
   "execution_count": 3,
   "metadata": {
    "collapsed": false
   },
   "outputs": [],
   "source": [
    "from pyBN import *"
   ]
  },
  {
   "cell_type": "markdown",
   "metadata": {},
   "source": [
    "If you already have a file in mind, then you can use the \"read_bn\" function to parse that file and return a BayesNet object. The best part about \"read_bn\" is that it can understand ANY file type -- just make sure you include the extension at the end of the filepath string and pyBN takes care of the rest!\n",
    "\n",
    "Suppose I want to read one of the many included Bayesian networks in the pyBN package -- say, the well-known \"cancer\" BN. I simply write the absolute or relative path to the file, and pass it as an argument to \"read_bn\":"
   ]
  },
  {
   "cell_type": "code",
   "execution_count": 5,
   "metadata": {
    "collapsed": false
   },
   "outputs": [],
   "source": [
    "file = 'data/cancer.bif'\n",
    "bn = read_bn(file)"
   ]
  },
  {
   "cell_type": "markdown",
   "metadata": {},
   "source": [
    "Once you have read in a BayesNet object from file, a good first thing to do is to check out its properties. Every BayesNet object in pyBN has three attributes:\n",
    "- \"V\" : a list of vertices (random variables)\n",
    "- \"E\" : a list of edges (conditional dependencies between random variables)\n",
    "- \"data\" : a dictionary of dictionaries containing the Conditional Probability Tables (and other info) for each random variables\n",
    "\n",
    "Let's observe these attributes for the \"cancer\" BN:"
   ]
  },
  {
   "cell_type": "code",
   "execution_count": 24,
   "metadata": {
    "collapsed": false
   },
   "outputs": [
    {
     "name": "stdout",
     "output_type": "stream",
     "text": [
      "['Pollution', 'Smoker', 'Cancer', 'Xray', 'Dyspnoea']\n",
      "[['Pollution', 'Cancer'], ['Smoker', 'Cancer'], ['Cancer', 'Xray'], ['Cancer', 'Dyspnoea']]\n"
     ]
    }
   ],
   "source": [
    "print bn.V\n",
    "print bn.E"
   ]
  },
  {
   "cell_type": "markdown",
   "metadata": {},
   "source": [
    "The underlying, official data storage for the pyBN package is based on the JSON format. This is best seen with the \"data\" attribute. Since the \"data\" attribute is a dictionary which conforms to the JSON format, it can be easily read/written from/to files. An added bonus is that JSON allows for well-formatted printing!"
   ]
  },
  {
   "cell_type": "code",
   "execution_count": 26,
   "metadata": {
    "collapsed": false
   },
   "outputs": [
    {
     "name": "stdout",
     "output_type": "stream",
     "text": [
      "{\n",
      "  \"vals\": [\n",
      "    \"positive\", \n",
      "    \"negative\"\n",
      "  ], \n",
      "  \"parents\": [\n",
      "    \"Cancer\"\n",
      "  ], \n",
      "  \"cprob\": [\n",
      "    [\n",
      "      0.9, \n",
      "      0.1\n",
      "    ], \n",
      "    [\n",
      "      0.2, \n",
      "      0.8\n",
      "    ]\n",
      "  ], \n",
      "  \"numoutcomes\": 2, \n",
      "  \"children\": []\n",
      "}\n"
     ]
    }
   ],
   "source": [
    "import json\n",
    "print json.dumps(bn.data['Xray'],indent=2)"
   ]
  },
  {
   "cell_type": "markdown",
   "metadata": {},
   "source": [
    "The information and code presented above was a quick, yet near-sufficient explanation of the file reading capabilities of the pyBN package. Creating a BayesNet object from scratch -- or modifying an existing BayesNet object -- is definitely something we will look into in the future!\n",
    "\n",
    "Now, let's turn to writing BayesNet object to file. Again, this is incredibly simple and relies on the \"write_bn\" function which operates similarly to the \"read_bn\" function -- simply specify the output file name and we will write passed-in BayesNet object to file based on the file extension given in the output file. That's right - pyBN can write a Bayesian network object to one of numerous formats by inferring which one you want in the output file string!"
   ]
  },
  {
   "cell_type": "code",
   "execution_count": 31,
   "metadata": {
    "collapsed": false
   },
   "outputs": [],
   "source": [
    "write_bn(bn, 'data/write_test.bn')"
   ]
  },
  {
   "cell_type": "markdown",
   "metadata": {},
   "source": [
    "To finish this tutorial, let's make sure our file-written BayesNet contains the correct information:"
   ]
  },
  {
   "cell_type": "code",
   "execution_count": 40,
   "metadata": {
    "collapsed": false
   },
   "outputs": [
    {
     "name": "stdout",
     "output_type": "stream",
     "text": [
      "True\n",
      "True\n",
      "True\n"
     ]
    }
   ],
   "source": [
    "bn2 = read_bn('data/write_test.bn')\n",
    "print bn.V == bn2.V\n",
    "print bn.E == bn2.E\n",
    "print bn.data == bn2.data"
   ]
  }
 ],
 "metadata": {
  "kernelspec": {
   "display_name": "Python 2",
   "language": "python",
   "name": "python2"
  },
  "language_info": {
   "codemirror_mode": {
    "name": "ipython",
    "version": 2
   },
   "file_extension": ".py",
   "mimetype": "text/x-python",
   "name": "python",
   "nbconvert_exporter": "python",
   "pygments_lexer": "ipython2",
   "version": "2.7.11"
  }
 },
 "nbformat": 4,
 "nbformat_minor": 0
}
