{
  "cells": [
    {
      "cell_type": "code",
      "execution_count": 1,
      "metadata": {
        "colab": {
          "base_uri": "https://localhost:8080/"
        },
        "id": "5luf7lcc4c7I",
        "outputId": "7a64e00b-1003-429a-c819-ae4a854b0921"
      },
      "outputs": [
        {
          "output_type": "stream",
          "name": "stdout",
          "text": [
            "Looking in indexes: https://pypi.org/simple, https://us-python.pkg.dev/colab-wheels/public/simple/\n",
            "Requirement already satisfied: networkx in /usr/local/lib/python3.8/dist-packages (3.0)\n",
            "Looking in indexes: https://pypi.org/simple, https://us-python.pkg.dev/colab-wheels/public/simple/\n",
            "Collecting pomegranate\n",
            "  Downloading pomegranate-0.14.8.tar.gz (4.3 MB)\n",
            "\u001b[2K     \u001b[90m━━━━━━━━━━━━━━━━━━━━━━━━━━━━━━━━━━━━━━━━\u001b[0m \u001b[32m4.3/4.3 MB\u001b[0m \u001b[31m26.5 MB/s\u001b[0m eta \u001b[36m0:00:00\u001b[0m\n",
            "\u001b[?25h  Installing build dependencies ... \u001b[?25l\u001b[?25hdone\n",
            "  Getting requirements to build wheel ... \u001b[?25l\u001b[?25hdone\n",
            "  Preparing metadata (pyproject.toml) ... \u001b[?25l\u001b[?25hdone\n",
            "Requirement already satisfied: numpy>=1.20.0 in /usr/local/lib/python3.8/dist-packages (from pomegranate) (1.21.6)\n",
            "Requirement already satisfied: joblib>=0.9.0b4 in /usr/local/lib/python3.8/dist-packages (from pomegranate) (1.2.0)\n",
            "Requirement already satisfied: scipy>=0.17.0 in /usr/local/lib/python3.8/dist-packages (from pomegranate) (1.7.3)\n",
            "Requirement already satisfied: pyyaml in /usr/local/lib/python3.8/dist-packages (from pomegranate) (6.0)\n",
            "Requirement already satisfied: networkx>=2.4 in /usr/local/lib/python3.8/dist-packages (from pomegranate) (3.0)\n",
            "Building wheels for collected packages: pomegranate\n",
            "  Building wheel for pomegranate (pyproject.toml) ... \u001b[?25l\u001b[?25hdone\n",
            "  Created wheel for pomegranate: filename=pomegranate-0.14.8-cp38-cp38-linux_x86_64.whl size=22140373 sha256=b6d3ee04eb0021f2b4fdef993b5bf6d170f74898495d4b723bd1274ff93b8827\n",
            "  Stored in directory: /root/.cache/pip/wheels/e5/39/08/5dac86e6d7ef4c6b9f337b0913f1bf96a8b32ff45f833b067f\n",
            "Successfully built pomegranate\n",
            "Installing collected packages: pomegranate\n",
            "Successfully installed pomegranate-0.14.8\n"
          ]
        }
      ],
      "source": [
        "!pip install networkx\n",
        "!pip install pomegranate"
      ]
    },
    {
      "cell_type": "code",
      "execution_count": 2,
      "metadata": {
        "id": "A5ZVddHP4Y8G"
      },
      "outputs": [],
      "source": [
        "import networkx as nx\n",
        "from pomegranate import *\n",
        "import matplotlib.pyplot as plt\n"
      ]
    },
    {
      "cell_type": "markdown",
      "metadata": {
        "id": "YajXM3be4Y8Q"
      },
      "source": [
        "# Etape 1 "
      ]
    },
    {
      "cell_type": "markdown",
      "metadata": {
        "id": "dgnc9r2B4Y8V"
      },
      "source": [
        "Un simple poly arbre "
      ]
    },
    {
      "cell_type": "code",
      "execution_count": 3,
      "metadata": {
        "id": "I6agHkcC4Y8W"
      },
      "outputs": [],
      "source": [
        "def create_tree(nodes, edges):\n",
        "    graph = nx.DiGraph()\n",
        "    graph.add_nodes_from(nodes)\n",
        "    graph.add_edges_from(edges)\n",
        "    return graph\n"
      ]
    },
    {
      "cell_type": "code",
      "execution_count": 4,
      "metadata": {
        "id": "iIE00tv54Y8X"
      },
      "outputs": [],
      "source": [
        "def plot_graph(G):\n",
        "    options = {\n",
        "        'node_color': '#5e2b73',\n",
        "        'node_size': 4000,\n",
        "        'width': 2,\n",
        "        'font_size': 10,\n",
        "        'font_color': 'black',\n",
        "    }\n",
        "    nx.draw(G, with_labels=True, **options)\n",
        "    plt.show()\n"
      ]
    },
    {
      "cell_type": "code",
      "execution_count": 5,
      "metadata": {
        "colab": {
          "base_uri": "https://localhost:8080/",
          "height": 319
        },
        "id": "ZXMrpqCt4Y8Z",
        "outputId": "69186b70-6436-4702-8607-7e3d1d5ed69a"
      },
      "outputs": [
        {
          "output_type": "display_data",
          "data": {
            "text/plain": [
              "<Figure size 432x288 with 1 Axes>"
            ],
            "image/png": "[encoded data removed]"
          },
          "metadata": {}
        }
      ],
      "source": [
        "G = create_tree(nodes=[\"Rain\", \"Sprinkler\", \"Grass Wet\"], edges=[\n",
        "                        (\"Rain\", \"Sprinkler\"), (\"Rain\", \"Grass Wet\"), (\"Sprinkler\", \"Grass Wet\")])\n",
        "plot_graph(G)\n"
      ]
    },
    {
      "cell_type": "markdown",
      "metadata": {
        "id": "L9dyXCSU4Y8b"
      },
      "source": [
        "Calcule de l'inference"
      ]
    },
    {
      "cell_type": "code",
      "execution_count": 6,
      "metadata": {
        "id": "5hlD3LJL4Y8c"
      },
      "outputs": [],
      "source": [
        "rain = DiscreteDistribution({'F': 0.8, 'T': 0.2})\n",
        "sprinkler = ConditionalProbabilityTable(\n",
        "    [['F', 'T', 0.4],\n",
        "     ['F', 'F', 0.6],\n",
        "     ['T', 'T', 0.01],\n",
        "     ['T', 'F', 0.99]], [rain])\n",
        "\n",
        "grass_wet = ConditionalProbabilityTable(\n",
        "    [['F', 'F', 'F', 1.0],\n",
        "    ['F', 'F', 'T', 0.0],\n",
        "    ['F', 'T', 'F', 0.2],\n",
        "    ['F', 'T', 'T', 0.8],\n",
        "    ['T', 'F', 'F', 0.1],\n",
        "    ['T', 'F', 'T', 0.9],\n",
        "    ['T', 'T', 'F', 0.01],\n",
        "    ['T', 'T', 'T', 0.99]], [sprinkler, rain])\n",
        "\n",
        "rain_node = Node(rain, name=\"Rain\")\n",
        "sprinkler_node = Node(sprinkler, name=\"Sprinkler\")\n",
        "grass_node = Node(grass_wet, name=\"Grass Wet\")\n",
        "B_net = BayesianNetwork(\"water on grass\")\n",
        "B_net.add_states(rain_node, sprinkler_node, grass_node)\n",
        "B_net.add_edge(sprinkler_node, grass_node)\n",
        "B_net.add_edge(rain_node, sprinkler_node)\n",
        "B_net.add_edge(rain_node, grass_node)\n",
        "B_net.bake()\n"
      ]
    },
    {
      "cell_type": "code",
      "execution_count": 7,
      "metadata": {
        "colab": {
          "base_uri": "https://localhost:8080/"
        },
        "id": "-FCSAYtL4Y8d",
        "outputId": "883c9fd4-8a06-42ae-bc89-31a6c4435ab8"
      },
      "outputs": [
        {
          "output_type": "execute_result",
          "data": {
            "text/plain": [
              "[array(['T', 'F', {\n",
              "                      \"class\" : \"Distribution\",\n",
              "                      \"dtype\" : \"str\",\n",
              "                      \"name\" : \"DiscreteDistribution\",\n",
              "                      \"parameters\" : [\n",
              "                          {\n",
              "                              \"T\" : 0.7999999999999999,\n",
              "                              \"F\" : 0.20000000000000018\n",
              "                          }\n",
              "                      ],\n",
              "                      \"frozen\" : false\n",
              "                  }                                    ], dtype=object)]"
            ]
          },
          "metadata": {},
          "execution_count": 7
        }
      ],
      "source": [
        "#l'ordre des entrées d'apres l'ordre d'affectation des noeuds dans le graphe ! \n",
        "B_net.predict_proba([['T', 'F', None]])"
      ]
    },
    {
      "cell_type": "markdown",
      "metadata": {
        "id": "rNwPsr8-4Y8f"
      },
      "source": [
        "#### Résultats"
      ]
    },
    {
      "cell_type": "markdown",
      "metadata": {
        "id": "YhK2rlVH4Y8i"
      },
      "source": [
        "# Etape 3"
      ]
    },
    {
      "cell_type": "markdown",
      "metadata": {
        "id": "_WGPohEm4Y8j"
      },
      "source": [
        "Arbre de jonction"
      ]
    },
    {
      "cell_type": "code",
      "execution_count": 8,
      "metadata": {
        "id": "quQFVTiF4Y8j",
        "colab": {
          "base_uri": "https://localhost:8080/",
          "height": 495
        },
        "outputId": "6ad60b00-1bfa-44b5-c5c6-87e1b8aa35ce"
      },
      "outputs": [
        {
          "output_type": "error",
          "ename": "ModuleNotFoundError",
          "evalue": "ignored",
          "traceback": [
            "\u001b[0;31m---------------------------------------------------------------------------\u001b[0m",
            "\u001b[0;31mModuleNotFoundError\u001b[0m                       Traceback (most recent call last)",
            "\u001b[0;32m<ipython-input-8-cf7f45b9d9da>\u001b[0m in \u001b[0;36m<module>\u001b[0;34m\u001b[0m\n\u001b[0;32m----> 1\u001b[0;31m \u001b[0;32mfrom\u001b[0m \u001b[0mread\u001b[0m \u001b[0;32mimport\u001b[0m \u001b[0mread_bn\u001b[0m\u001b[0;34m\u001b[0m\u001b[0;34m\u001b[0m\u001b[0m\n\u001b[0m\u001b[1;32m      2\u001b[0m \u001b[0;32mfrom\u001b[0m \u001b[0mbayesnet\u001b[0m \u001b[0;32mimport\u001b[0m \u001b[0mBayesNet\u001b[0m\u001b[0;34m\u001b[0m\u001b[0;34m\u001b[0m\u001b[0m\n\u001b[1;32m      3\u001b[0m \u001b[0;32mfrom\u001b[0m \u001b[0mcliquetree\u001b[0m \u001b[0;32mimport\u001b[0m \u001b[0mCliqueTree\u001b[0m\u001b[0;34m\u001b[0m\u001b[0;34m\u001b[0m\u001b[0m\n\u001b[1;32m      4\u001b[0m \u001b[0;32mimport\u001b[0m \u001b[0mtime\u001b[0m\u001b[0;34m\u001b[0m\u001b[0;34m\u001b[0m\u001b[0m\n\u001b[1;32m      5\u001b[0m \u001b[0;32mimport\u001b[0m \u001b[0mmatplotlib\u001b[0m\u001b[0;34m.\u001b[0m\u001b[0mpyplot\u001b[0m \u001b[0;32mas\u001b[0m \u001b[0mplt\u001b[0m\u001b[0;34m\u001b[0m\u001b[0;34m\u001b[0m\u001b[0m\n",
            "\u001b[0;32m/content/read.py\u001b[0m in \u001b[0;36m<module>\u001b[0;34m\u001b[0m\n\u001b[1;32m     17\u001b[0m \u001b[0;32mimport\u001b[0m \u001b[0mcopy\u001b[0m\u001b[0;34m\u001b[0m\u001b[0;34m\u001b[0m\u001b[0m\n\u001b[1;32m     18\u001b[0m \u001b[0;34m\u001b[0m\u001b[0m\n\u001b[0;32m---> 19\u001b[0;31m \u001b[0;32mfrom\u001b[0m \u001b[0mpyBN\u001b[0m\u001b[0;34m.\u001b[0m\u001b[0mpyBN\u001b[0m\u001b[0;34m.\u001b[0m\u001b[0mclasses\u001b[0m\u001b[0;34m.\u001b[0m\u001b[0mbayesnet\u001b[0m \u001b[0;32mimport\u001b[0m \u001b[0mBayesNet\u001b[0m\u001b[0;34m\u001b[0m\u001b[0;34m\u001b[0m\u001b[0m\n\u001b[0m\u001b[1;32m     20\u001b[0m \u001b[0;32mfrom\u001b[0m \u001b[0mpyBN\u001b[0m\u001b[0;34m.\u001b[0m\u001b[0mpyBN\u001b[0m\u001b[0;34m.\u001b[0m\u001b[0mclasses\u001b[0m\u001b[0;34m.\u001b[0m\u001b[0mfactor\u001b[0m \u001b[0;32mimport\u001b[0m \u001b[0mFactor\u001b[0m\u001b[0;34m\u001b[0m\u001b[0;34m\u001b[0m\u001b[0m\n\u001b[1;32m     21\u001b[0m \u001b[0;32mfrom\u001b[0m \u001b[0mpyBN\u001b[0m\u001b[0;34m.\u001b[0m\u001b[0mpyBN\u001b[0m\u001b[0;34m.\u001b[0m\u001b[0mutils\u001b[0m\u001b[0;34m.\u001b[0m\u001b[0mgraph\u001b[0m \u001b[0;32mimport\u001b[0m \u001b[0mtopsort\u001b[0m\u001b[0;34m\u001b[0m\u001b[0;34m\u001b[0m\u001b[0m\n",
            "\u001b[0;31mModuleNotFoundError\u001b[0m: No module named 'pyBN'",
            "",
            "\u001b[0;31m---------------------------------------------------------------------------\u001b[0;32m\nNOTE: If your import is failing due to a missing package, you can\nmanually install dependencies using either !pip or !apt.\n\nTo view examples of installing some common dependencies, click the\n\"Open Examples\" button below.\n\u001b[0;31m---------------------------------------------------------------------------\u001b[0m\n"
          ],
          "errorDetails": {
            "actions": [
              {
                "action": "open_url",
                "actionText": "Open Examples",
                "url": "/notebooks/snippets/importing_libraries.ipynb"
              }
            ]
          }
        }
      ],
      "source": [
        "from read import read_bn\n",
        "from bayesnet import BayesNet\n",
        "from cliquetree import CliqueTree\n",
        "import time\n",
        "import matplotlib.pyplot as plt\n",
        "import numpy as np\n"
      ]
    },
    {
      "cell_type": "code",
      "execution_count": null,
      "metadata": {
        "id": "qxMnx4jg4Y8j"
      },
      "outputs": [],
      "source": [
        "bn = read_bn(\"pigs.bif\")"
      ]
    },
    {
      "cell_type": "code",
      "execution_count": null,
      "metadata": {
        "id": "JXJS6kLW4Y8j"
      },
      "outputs": [],
      "source": [
        "b_graph = create_tree(nodes=bn.nodes(), edges=bn.edges())\n",
        "plot_graph(b_graph)"
      ]
    },
    {
      "cell_type": "code",
      "execution_count": null,
      "metadata": {
        "id": "1GnMCti-4Y8k"
      },
      "outputs": [],
      "source": [
        "G = get_poly_arbre(nodes=bn.nodes(), edges=bn.moralized_edges())\n",
        "plot_graph(G)"
      ]
    },
    {
      "cell_type": "code",
      "execution_count": null,
      "metadata": {
        "id": "giacLuVD4Y8k"
      },
      "outputs": [],
      "source": [
        "nodes = []\n",
        "edges = []\n",
        "t = []\n",
        "graphs = ['cancer.bif', 'earthquake.bif', 'asia.bif', 'sachs.bif',\n",
        "          'child.bif',  'win95pts.bif', 'pathfinder.bif', 'andes.bif', 'pigs.bif']\n",
        "print('Network\\t\\t Nodes\\t\\t Edges\\t\\t Cliques\\t Time (s)')\n",
        "print('=========================================================================')\n",
        "for filename in graphs:\n",
        "    bn = read_bn(os.path.join('NetWorks', filename))\n",
        "    start = time.time()\n",
        "    cliques = CliqueTree(bn)\n",
        "    end = time.time() - start\n",
        "    edge = 0\n",
        "    for l in list(bn.E.values()):\n",
        "        edge += len(l)\n",
        "    print(filename, '\\t', len(bn.V), '\\t\\t', edge,\n",
        "          '\\t\\t', len(cliques.C), '\\t\\t', str(end)[:8])\n",
        "    nodes.append(len(bn.V))\n",
        "    edges.append(edge)\n",
        "    t.append(end)\n"
      ]
    },
    {
      "cell_type": "code",
      "execution_count": null,
      "metadata": {
        "id": "YPjRKc3Y4Y8l"
      },
      "outputs": [],
      "source": [
        "plt.plot(edges, t, \"-o\")\n",
        "plt.title('Execution time vs number of edges')\n",
        "plt.xlabel('Edges')\n",
        "plt.ylabel('Execution time (s)')\n",
        "plt.show()\n"
      ]
    }
  ],
  "metadata": {
    "colab": {
      "provenance": []
    },
    "kernelspec": {
      "display_name": "Python 3.11.1 64-bit",
      "language": "python",
      "name": "python3"
    },
    "language_info": {
      "codemirror_mode": {
        "name": "ipython",
        "version": 3
      },
      "file_extension": ".py",
      "mimetype": "text/x-python",
      "name": "python",
      "nbconvert_exporter": "python",
      "pygments_lexer": "ipython3",
      "version": "3.11.1"
    },
    "vscode": {
      "interpreter": {
        "hash": "5d707c00c767744dea3391f710500fd2c6214da7ad81f583b95faad2d1e9d50c"
      }
    }
  },
  "nbformat": 4,
  "nbformat_minor": 0
}